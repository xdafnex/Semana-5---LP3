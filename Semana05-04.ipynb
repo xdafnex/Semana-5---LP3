{
 "cells": [
  {
   "cell_type": "raw",
   "id": "f8eec733-7834-4dce-8f7a-c808d89742d7",
   "metadata": {},
   "source": [
    "4. Clases y objetos"
   ]
  },
  {
   "cell_type": "code",
   "execution_count": 2,
   "id": "cdfc420d-7173-4c8d-afcc-f325f4eb8467",
   "metadata": {},
   "outputs": [],
   "source": [
    "#problema 01\n",
    "#crear la siguiente clase:\n",
    "# -clase: persona\n",
    "# -atributos: nombre, apellidos, dni y talla"
   ]
  },
  {
   "cell_type": "code",
   "execution_count": 8,
   "id": "8f00d719-0e44-418a-b72d-ce40185cdff1",
   "metadata": {},
   "outputs": [],
   "source": [
    "class Persona:\n",
    "    nombre = \"\"\n",
    "    apellidos = \"\"\n",
    "    dni = \"\"\n",
    "    talla = 0"
   ]
  },
  {
   "cell_type": "code",
   "execution_count": 9,
   "id": "b8e323e4-19cd-4388-904a-33dd3c4d411b",
   "metadata": {},
   "outputs": [],
   "source": [
    "#creacion del objeto persona1\n",
    "persona1 = Persona()"
   ]
  },
  {
   "cell_type": "code",
   "execution_count": 10,
   "id": "ed708fde-6635-4f3b-bdd3-978d53b505c0",
   "metadata": {},
   "outputs": [],
   "source": [
    "#asiganmos valores al objeto\n",
    "persona1.nombre = \"Dharma\"\n",
    "persona1.apellidos = \"Bonifacio\"\n",
    "persona1.dni = \"12345678\"\n",
    "persona1.talla = 1.68"
   ]
  },
  {
   "cell_type": "code",
   "execution_count": 11,
   "id": "ddc6a20e-d474-4b31-934c-a2e5a3de43c0",
   "metadata": {},
   "outputs": [
    {
     "name": "stdout",
     "output_type": "stream",
     "text": [
      "persona1\n",
      "Nombre: Dharma\n",
      "Apellidos: Bonifacio\n",
      "DNI: 12345678\n",
      "Talla: 1.68\n"
     ]
    }
   ],
   "source": [
    "print(\"persona1\")\n",
    "print(f\"Nombre: {persona1.nombre}\")\n",
    "print(f\"Apellidos: {persona1.apellidos}\")\n",
    "print(f\"DNI: {persona1.dni}\")\n",
    "print(f\"Talla: {persona1.talla}\")"
   ]
  },
  {
   "cell_type": "code",
   "execution_count": 12,
   "id": "e8b1216f-b8f6-4d49-a8eb-8bf3d71d1910",
   "metadata": {},
   "outputs": [],
   "source": [
    "#para utilizar constructores utilizamos: _init_"
   ]
  },
  {
   "cell_type": "code",
   "execution_count": 13,
   "id": "05edec69-c890-458e-b056-b420fe2f4347",
   "metadata": {},
   "outputs": [],
   "source": [
    "#problema 02:"
   ]
  },
  {
   "cell_type": "code",
   "execution_count": 14,
   "id": "be0738eb-0510-4b8b-9d15-0fbc139b7583",
   "metadata": {},
   "outputs": [],
   "source": [
    "#crear la siguiente clase y utilizar constructores:\n",
    "# -clase:curso\n",
    "# -atributos: codigo, nombre, horas, credito"
   ]
  },
  {
   "cell_type": "code",
   "execution_count": 20,
   "id": "9c00d389-2900-43b1-bbd7-bcfef69f10e9",
   "metadata": {
    "scrolled": true
   },
   "outputs": [],
   "source": [
    "#solucion\n",
    "class curso:\n",
    "    def __init__(self, codigo, nombre, horas, creditos):\n",
    "        self.codigo = codigo\n",
    "        self.nombre = nombre\n",
    "        self.horas = horas\n",
    "        self.creditos = creditos\n",
    "     \n",
    "    def mostrar_datos_curso(self):\n",
    "        print(f\"Curso: {self.nombre}\")\n",
    "        print(f\"Código: {self.codigo}\")\n",
    "        print(f\"Horas: {self.horas}\")\n",
    "        print(f\"Créditos: {self.creditos}\")\n",
    " "
   ]
  },
  {
   "cell_type": "code",
   "execution_count": 24,
   "id": "3325dbc7-fc2f-48fa-9518-81d5edfbbb3f",
   "metadata": {},
   "outputs": [],
   "source": [
    "# Creamos el objeto curso1 y le mandamos parámetros\n",
    "curso1 = curso(\"C0501\",\"LP3\",6,3)"
   ]
  },
  {
   "cell_type": "code",
   "execution_count": 22,
   "id": "00a64521-b568-450f-8560-86a37badae0f",
   "metadata": {},
   "outputs": [
    {
     "name": "stdout",
     "output_type": "stream",
     "text": [
      "Curso: LP3\n",
      "Código: C0501\n",
      "Horas: 6\n",
      "Créditos: 3\n"
     ]
    }
   ],
   "source": [
    "# Mostramos los datos completos del curso, ejecutando el metodo mostrar_datos_curso()\n",
    "curso1.mostrar_datos_curso();"
   ]
  },
  {
   "cell_type": "code",
   "execution_count": null,
   "id": "06a4b9ed-ee2b-4d4a-8dae-aa751a8732e7",
   "metadata": {},
   "outputs": [],
   "source": []
  }
 ],
 "metadata": {
  "kernelspec": {
   "display_name": "Python 3 (ipykernel)",
   "language": "python",
   "name": "python3"
  },
  "language_info": {
   "codemirror_mode": {
    "name": "ipython",
    "version": 3
   },
   "file_extension": ".py",
   "mimetype": "text/x-python",
   "name": "python",
   "nbconvert_exporter": "python",
   "pygments_lexer": "ipython3",
   "version": "3.11.7"
  }
 },
 "nbformat": 4,
 "nbformat_minor": 5
}

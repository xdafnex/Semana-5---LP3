{
 "cells": [
  {
   "cell_type": "raw",
   "id": "e521e4b5-ff79-4e39-b903-4f22e5316fe3",
   "metadata": {},
   "source": [
    "Temas:\n",
    "1. Coleccion de datos\n",
    "2. Estructiras decisivas y Estructuras repetitivas\n",
    "3. Clases y funciones\n",
    "4. Funciones"
   ]
  },
  {
   "cell_type": "raw",
   "id": "95454ba0-51ec-405c-a081-cf3351591cf5",
   "metadata": {},
   "source": [
    "Coleccion de datos"
   ]
  },
  {
   "cell_type": "code",
   "execution_count": 11,
   "id": "71965a10-f72a-4bb5-a00f-1da24966e818",
   "metadata": {},
   "outputs": [],
   "source": [
    "aula = ['Huertas', 'Fernandez', 'Caballero']"
   ]
  },
  {
   "cell_type": "code",
   "execution_count": 12,
   "id": "38879d61-6348-4abc-8982-685d35c91850",
   "metadata": {},
   "outputs": [
    {
     "data": {
      "text/plain": [
       "['Huertas', 'Fernandez', 'Caballero']"
      ]
     },
     "execution_count": 12,
     "metadata": {},
     "output_type": "execute_result"
    }
   ],
   "source": [
    "aula"
   ]
  },
  {
   "cell_type": "code",
   "execution_count": 8,
   "id": "f7f20d2d-5490-4dc4-9cc1-464db567ec87",
   "metadata": {},
   "outputs": [
    {
     "data": {
      "text/plain": [
       "['Hurtas', 'Fernandez', 'Caballero', 'Mamani', 'Bonifacio']"
      ]
     },
     "execution_count": 8,
     "metadata": {},
     "output_type": "execute_result"
    }
   ],
   "source": [
    "# para agregar un elemento uttilizamos append\n",
    "aula.append(\"Mamani\")\n",
    "aula.append(\"Bonifacio\")\n",
    "aula"
   ]
  },
  {
   "cell_type": "code",
   "execution_count": 10,
   "id": "118ca4a0-96e9-4035-8837-7a371f229dd1",
   "metadata": {},
   "outputs": [
    {
     "data": {
      "text/plain": [
       "['Bonifacio', 'Caballero', 'Fernandez', 'Hurtas', 'Mamani']"
      ]
     },
     "execution_count": 10,
     "metadata": {},
     "output_type": "execute_result"
    }
   ],
   "source": [
    "#para ordenar una lista utilizamos sort()\n",
    "aula.sort()\n",
    "aula"
   ]
  },
  {
   "cell_type": "code",
   "execution_count": 13,
   "id": "e660ade3-a37f-4637-bfca-1eebcca48165",
   "metadata": {},
   "outputs": [],
   "source": [
    "#1.2. tuplas\n",
    "#es una coleccion de elementos ordenada (ordenado significa que tiene un indice)\n",
    "#se identifica por los parentesis\n"
   ]
  },
  {
   "cell_type": "code",
   "execution_count": 14,
   "id": "4b08862d-5ab6-4f53-9f80-af2e6816d815",
   "metadata": {},
   "outputs": [],
   "source": [
    "# 1.3. conjuntos\n",
    "# es una coleccion de elementos que no esta ordenado\n",
    "# "
   ]
  },
  {
   "cell_type": "code",
   "execution_count": 18,
   "id": "cb32e883-3006-42d8-8bba-70395c0e70ca",
   "metadata": {},
   "outputs": [
    {
     "data": {
      "text/plain": [
       "{2: 'Huertas', '1': 'Bravo', 'dos': 'Bonifacio', '3': 'Caballero'}"
      ]
     },
     "execution_count": 18,
     "metadata": {},
     "output_type": "execute_result"
    }
   ],
   "source": [
    "#1.4 diccionarios\n",
    "# es una coleccion de elementos que estan indexados\n",
    "# no estan ordenados y se pueden modificar\n",
    "# son escritos entre llaves y estan formados por pares de elementos\n",
    "diccionario_aula = {2:'Huertas', '1':'Bravo', 'dos':'Bonifacio', '3':'Caballero'}\n",
    "diccionario_aula"
   ]
  },
  {
   "cell_type": "code",
   "execution_count": 19,
   "id": "54f05852-8a26-4f1a-99ff-8d97c3f770da",
   "metadata": {},
   "outputs": [
    {
     "data": {
      "text/plain": [
       "'Huertas'"
      ]
     },
     "execution_count": 19,
     "metadata": {},
     "output_type": "execute_result"
    }
   ],
   "source": [
    "diccionario_aula[2]"
   ]
  },
  {
   "cell_type": "code",
   "execution_count": 20,
   "id": "8f5ea968-9029-4e51-9157-ef6428b957ab",
   "metadata": {},
   "outputs": [
    {
     "data": {
      "text/plain": [
       "{2: 'Huertas',\n",
       " '1': 'Bravo',\n",
       " 'dos': 'Bonifacio',\n",
       " '3': 'Caballero',\n",
       " '20': 'Velez'}"
      ]
     },
     "execution_count": 20,
     "metadata": {},
     "output_type": "execute_result"
    }
   ],
   "source": [
    "diccionario_aula['20'] = \"Velez\"\n",
    "diccionario_aula"
   ]
  },
  {
   "cell_type": "code",
   "execution_count": 21,
   "id": "74d61ded-f67b-4adf-9fac-51688a03c6ef",
   "metadata": {},
   "outputs": [
    {
     "data": {
      "text/plain": [
       "{'1': 'Bravo', 'dos': 'Bonifacio', '3': 'Caballero', '20': 'Velez'}"
      ]
     },
     "execution_count": 21,
     "metadata": {},
     "output_type": "execute_result"
    }
   ],
   "source": [
    "#para eliminar un valor se utiliza pop()\n",
    "diccionario_aula.pop(2)\n",
    "diccionario_aula"
   ]
  },
  {
   "cell_type": "code",
   "execution_count": null,
   "id": "6b854a73-8c97-4936-bd1c-227700d2e7d2",
   "metadata": {},
   "outputs": [],
   "source": [
    "#para obtener el indice y elv alor de cada elemento utilizamos items()\n",
    "for indice, valor in diccionario_aula.items():\n",
    "    print(indice,valor)"
   ]
  },
  {
   "cell_type": "code",
   "execution_count": null,
   "id": "7cfeb6d6-e2e0-4e25-944e-8b60e108ed81",
   "metadata": {},
   "outputs": [],
   "source": [
    "# 1.5. Ejercicio\n",
    "# Dado una lista de [AMES, ARTEAGA , BARRIOS , BONIFACIO, BRAVO, CABALLERO , CAÑAZACA, FERNANDEZ , FLORES , GARCIA , HERRERA , HUERTA , HUERTAS, JIMENEZ , MAMANI , MANCILLA, PABLO , PAYE , PEÑA , PIZANGO, RAMOS, SANCHEZ,SEVILLANO, TINOCO, TORRES , VALDIVIESO, VELEZ , VILLANUEVA , ZUÑIGA]\n",
    "# Diseñar un código que muestre si el apellido de un estudiante (Ingresado por teclado) forma parte de la lista\n",
    "# tiempo: 12 minutos"
   ]
  },
  {
   "cell_type": "code",
   "execution_count": 24,
   "id": "fd129ff5-17c6-4548-b90b-4098dbab2aa3",
   "metadata": {},
   "outputs": [
    {
     "name": "stdin",
     "output_type": "stream",
     "text": [
      "Ingrese el apellido a buscar:  SEMA\n"
     ]
    },
    {
     "name": "stdout",
     "output_type": "stream",
     "text": [
      "El apellido SEMA no forma parte de la lista.\n"
     ]
    }
   ],
   "source": [
    "# Lista de apellidos\n",
    "lista_apellidos = ['AMES', 'ARTEAGA', 'BARRIOS', 'BONIFACIO', 'BRAVO', 'CABALLERO', 'CAÑAZACA', 'FERNANDEZ', 'FLORES', 'GARCIA', 'HERRERA', 'HUERTA', 'HUERTAS', 'JIMENEZ', 'MAMANI', 'MANCILLA', 'PABLO', 'PAYE', 'PEÑA', 'PIZANGO', 'RAMOS', 'SANCHEZ', 'SEVILLANO', 'TINOCO', 'TORRES', 'VALDIVIESO', 'VELEZ', 'VILLANUEVA', 'ZUÑIGA']\n",
    "\n",
    "# Ingresar apellido por teclado\n",
    "apellido = input(\"Ingrese el apellido a buscar: \")\n",
    "\n",
    "# Verificar si el apellido está en la lista\n",
    "if apellido.upper() in lista_apellidos:\n",
    "    print(\"El apellido\", apellido, \"forma parte de la lista.\")\n",
    "else:\n",
    "    print(\"El apellido\", apellido, \"no forma parte de la lista.\")"
   ]
  },
  {
   "cell_type": "code",
   "execution_count": 23,
   "id": "89f7c84f-005a-4c8f-ad5f-5ec37fae4278",
   "metadata": {},
   "outputs": [
    {
     "ename": "NameError",
     "evalue": "name 'SEMA' is not defined",
     "output_type": "error",
     "traceback": [
      "\u001b[1;31m---------------------------------------------------------------------------\u001b[0m",
      "\u001b[1;31mNameError\u001b[0m                                 Traceback (most recent call last)",
      "Cell \u001b[1;32mIn[23], line 1\u001b[0m\n\u001b[1;32m----> 1\u001b[0m SEMA\n",
      "\u001b[1;31mNameError\u001b[0m: name 'SEMA' is not defined"
     ]
    }
   ],
   "source": [
    "SEMA"
   ]
  }
 ],
 "metadata": {
  "kernelspec": {
   "display_name": "Python 3 (ipykernel)",
   "language": "python",
   "name": "python3"
  },
  "language_info": {
   "codemirror_mode": {
    "name": "ipython",
    "version": 3
   },
   "file_extension": ".py",
   "mimetype": "text/x-python",
   "name": "python",
   "nbconvert_exporter": "python",
   "pygments_lexer": "ipython3",
   "version": "3.11.7"
  }
 },
 "nbformat": 4,
 "nbformat_minor": 5
}

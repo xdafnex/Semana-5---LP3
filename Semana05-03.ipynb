{
 "cells": [
  {
   "cell_type": "code",
   "execution_count": 1,
   "id": "804bf2ad-104d-41e8-8585-5098c82cbf05",
   "metadata": {},
   "outputs": [],
   "source": [
    "#3.1. metodos vacios\n",
    "#explicacion: no recibe valores (parametros)"
   ]
  },
  {
   "cell_type": "code",
   "execution_count": 3,
   "id": "59486822-e1ad-4ad3-be7a-bfe914b71d6a",
   "metadata": {},
   "outputs": [],
   "source": [
    "def saludo():\n",
    "    print(\"Bienvenidos al curso de LP3\")\n",
    "    print(\"****Pyhton****\")"
   ]
  },
  {
   "cell_type": "code",
   "execution_count": 4,
   "id": "fb3ded31-0e24-4b8c-92b5-bc7b39e1b5b1",
   "metadata": {},
   "outputs": [
    {
     "name": "stdout",
     "output_type": "stream",
     "text": [
      "Bienvenidos al curso de LP3\n",
      "****Pyhton****\n"
     ]
    }
   ],
   "source": [
    "saludo()"
   ]
  },
  {
   "cell_type": "code",
   "execution_count": 5,
   "id": "705d6b98-3380-45e0-8565-f04affc7f548",
   "metadata": {},
   "outputs": [],
   "source": [
    "#3.2. metodos que reciben valores"
   ]
  },
  {
   "cell_type": "code",
   "execution_count": 6,
   "id": "bdd9eb10-1454-4231-905a-2a7f2224aeb5",
   "metadata": {},
   "outputs": [],
   "source": [
    "def factorial(numero):\n",
    "    fac = 1\n",
    "    for i in range(1,numero+1):\n",
    "        fac*=i\n",
    "        #fac = fac*i\n",
    "    print(f\"El factorial es: {fac}\")"
   ]
  },
  {
   "cell_type": "code",
   "execution_count": 9,
   "id": "5e2dabd6-40d9-4c97-a0b6-b2544fdafffa",
   "metadata": {},
   "outputs": [
    {
     "name": "stdin",
     "output_type": "stream",
     "text": [
      "Ingrese Numero:  7\n"
     ]
    },
    {
     "name": "stdout",
     "output_type": "stream",
     "text": [
      "El factorial es: 5040\n"
     ]
    }
   ],
   "source": [
    "numero = int(input(\"Ingrese Numero: \"))\n",
    "factorial(numero)"
   ]
  },
  {
   "cell_type": "code",
   "execution_count": 11,
   "id": "a3002db7-a808-40d6-bc3f-b2174ad4fe3e",
   "metadata": {},
   "outputs": [],
   "source": [
    "#3.3 Metodos que devuelven valores\n",
    "def saludo2():\n",
    "    mensaje = \"Bienvenidos a LP3\"\n",
    "    return mensaje"
   ]
  },
  {
   "cell_type": "code",
   "execution_count": 12,
   "id": "11fb4704-63a5-41fd-b350-994f21450dcf",
   "metadata": {},
   "outputs": [
    {
     "name": "stdout",
     "output_type": "stream",
     "text": [
      "Bienvenidos a LP3\n"
     ]
    }
   ],
   "source": [
    "print(saludo2())"
   ]
  },
  {
   "cell_type": "code",
   "execution_count": 13,
   "id": "a677672d-aaa0-4bd6-9a98-6f787c7f3de1",
   "metadata": {},
   "outputs": [],
   "source": [
    "#3.4. metodos que reciben y devuelven valores"
   ]
  },
  {
   "cell_type": "code",
   "execution_count": 14,
   "id": "c44a8269-6c8b-4f6f-9a6f-0c489da0d763",
   "metadata": {},
   "outputs": [],
   "source": [
    "def factorial2(numero):\n",
    "    fac = 1\n",
    "    for i in range(1, numero+1):\n",
    "        fac*=i\n",
    "        #fac = fac*i\n",
    "    return fac"
   ]
  },
  {
   "cell_type": "code",
   "execution_count": 15,
   "id": "63c5563a-7ed5-41ae-bd5a-72e757389e13",
   "metadata": {},
   "outputs": [
    {
     "name": "stdin",
     "output_type": "stream",
     "text": [
      "Numero:  7\n"
     ]
    },
    {
     "name": "stdout",
     "output_type": "stream",
     "text": [
      "El factorial de 7 es 5040\n"
     ]
    }
   ],
   "source": [
    "numero = int(input(\"Numero: \"))\n",
    "print(f\"El factorial de {numero} es {factorial2(numero)}\")"
   ]
  },
  {
   "cell_type": "code",
   "execution_count": null,
   "id": "5cce3ff8-1e3d-415a-abda-d3159e352f12",
   "metadata": {},
   "outputs": [],
   "source": []
  }
 ],
 "metadata": {
  "kernelspec": {
   "display_name": "Python 3 (ipykernel)",
   "language": "python",
   "name": "python3"
  },
  "language_info": {
   "codemirror_mode": {
    "name": "ipython",
    "version": 3
   },
   "file_extension": ".py",
   "mimetype": "text/x-python",
   "name": "python",
   "nbconvert_exporter": "python",
   "pygments_lexer": "ipython3",
   "version": "3.11.7"
  }
 },
 "nbformat": 4,
 "nbformat_minor": 5
}

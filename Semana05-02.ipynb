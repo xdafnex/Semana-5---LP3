{
 "cells": [
  {
   "cell_type": "code",
   "execution_count": 1,
   "id": "be27b8c5-b02d-4559-9a81-c900f5982a20",
   "metadata": {},
   "outputs": [],
   "source": [
    "#2.1 Estructuras decisivas (if, elif), else)\n"
   ]
  },
  {
   "cell_type": "code",
   "execution_count": 2,
   "id": "1ac02da2-6ce1-4944-953f-29b4bc631539",
   "metadata": {},
   "outputs": [],
   "source": [
    "#if\n",
    "#problema: dado el precio de 3 productos ingresados por el teclado, aplicar un dscuento del 10%\n",
    "#venta es mayor o igual a 100"
   ]
  },
  {
   "cell_type": "code",
   "execution_count": 4,
   "id": "825a3b6d-f9e9-481c-8cc9-d0a54a621b22",
   "metadata": {},
   "outputs": [
    {
     "name": "stdin",
     "output_type": "stream",
     "text": [
      "Producto 1:  500\n",
      "Producto 2:  659\n",
      "Producto 3:  325\n"
     ]
    },
    {
     "name": "stdout",
     "output_type": "stream",
     "text": [
      "El total a pagar es: 1335.6000000000001\n"
     ]
    }
   ],
   "source": [
    "p1 = float(input(\"Producto 1: \"))\n",
    "p2 = float(input(\"Producto 2: \"))\n",
    "p3 = float(input(\"Producto 3: \"))\n",
    "total = p1 + p2 + p3\n",
    "if total >= 1000:\n",
    "    total *= 0.9\n",
    "print(f\"El total a pagar es: {total}\")"
   ]
  },
  {
   "cell_type": "code",
   "execution_count": 5,
   "id": "6be744e9-bf7c-4bac-824f-c184fea1a92a",
   "metadata": {},
   "outputs": [],
   "source": [
    "#Problema 02\n",
    "#Dado el importe total en ventas realizadas por un trabajador\n",
    "#(ingresado por teclado, categorizar que tipo de empleado es,\n",
    "#considerando la siguiente tabla:\n",
    "#Categoria: A -> [0,1000]\n",
    "#Categoria: B -> <1000,2000]\n",
    "#Categoria: C -> <2000,3000]\n",
    "#Categoria: D -> <3000,4000]"
   ]
  },
  {
   "cell_type": "code",
   "execution_count": 6,
   "id": "a9e9f8b3-9e58-4659-8590-9524605da9aa",
   "metadata": {},
   "outputs": [
    {
     "name": "stdin",
     "output_type": "stream",
     "text": [
      "Importe de ventas realizado:  2500\n"
     ]
    },
    {
     "name": "stdout",
     "output_type": "stream",
     "text": [
      "Categoria C\n"
     ]
    }
   ],
   "source": [
    "#solucion\n",
    "ventas = float(input(\"Importe de ventas realizado: \"))\n",
    "if ventas < 0:\n",
    "    print(\"Datos erroneos: \")\n",
    "elif ventas <= 1000:\n",
    "    print(\"Categoria A\")\n",
    "elif ventas <= 2000:\n",
    "    print(\"Categoria B\")\n",
    "elif ventas <= 3000:\n",
    "    print (\"Categoria C\")\n",
    "elif ventas <= 4000:\n",
    "    print(\"Categoria D\")\n",
    "else: \n",
    "    print(\"No existe categoria\")\n",
    "            "
   ]
  },
  {
   "cell_type": "code",
   "execution_count": 7,
   "id": "9c7e6c4f-5c75-4b57-8a8f-a798f518ce42",
   "metadata": {},
   "outputs": [],
   "source": [
    "#2.2 estructuras repetititvas\n",
    "# for\n"
   ]
  },
  {
   "cell_type": "code",
   "execution_count": 8,
   "id": "08bcb03a-5097-4b87-8d36-1f2587ca2891",
   "metadata": {},
   "outputs": [],
   "source": [
    "#problema 01\n",
    "#mostrar los elementos de una lista utilizando for"
   ]
  },
  {
   "cell_type": "code",
   "execution_count": 9,
   "id": "7dced002-0077-4d50-8280-a92b693ca719",
   "metadata": {},
   "outputs": [
    {
     "name": "stdout",
     "output_type": "stream",
     "text": [
      "Barrios\n",
      "Sevillano\n",
      "Zuñiga\n",
      "Paye\n"
     ]
    }
   ],
   "source": [
    "#solucion\n",
    "aula = ['Barrios', 'Sevillano', 'Zuñiga', 'Paye']\n",
    "#por cada alumno, imprimir alumno\n",
    "for alumno in aula:\n",
    "    print(alumno)\n",
    "    "
   ]
  },
  {
   "cell_type": "code",
   "execution_count": 10,
   "id": "44bd0002-a49a-4173-8367-ea9b47847d83",
   "metadata": {},
   "outputs": [
    {
     "name": "stdin",
     "output_type": "stream",
     "text": [
      "Ingrese cadenas:  hola\n"
     ]
    },
    {
     "name": "stdout",
     "output_type": "stream",
     "text": [
      "h\n",
      "o\n",
      "l\n",
      "a\n"
     ]
    }
   ],
   "source": [
    "#problema 02\n",
    "#dado una cadena ingresado por teclado\n",
    "#mostrar cada caracter de la cadena, utilizando la estructura for\n",
    "cadena = input(\"Ingrese cadenas: \")\n",
    "for caracter in cadena:\n",
    "    print(caracter)"
   ]
  },
  {
   "cell_type": "code",
   "execution_count": 11,
   "id": "fe571c9e-00d1-4f2b-8a3a-c5ea52b4768c",
   "metadata": {},
   "outputs": [
    {
     "data": {
      "text/plain": [
       "range(0, 5)"
      ]
     },
     "execution_count": 11,
     "metadata": {},
     "output_type": "execute_result"
    }
   ],
   "source": [
    "#para generar rangos utilizamos range()\n",
    "range(5)"
   ]
  },
  {
   "cell_type": "code",
   "execution_count": 12,
   "id": "2684c697-4941-413d-992b-774115e99850",
   "metadata": {},
   "outputs": [
    {
     "name": "stdout",
     "output_type": "stream",
     "text": [
      "5\n",
      "6\n",
      "7\n",
      "8\n",
      "9\n",
      "10\n"
     ]
    }
   ],
   "source": [
    "#problema 02\n",
    "for numero in range (5,11):\n",
    "    print(numero)"
   ]
  },
  {
   "cell_type": "code",
   "execution_count": null,
   "id": "eb39b72e-ad99-42b9-882a-59174b6014aa",
   "metadata": {},
   "outputs": [],
   "source": []
  }
 ],
 "metadata": {
  "kernelspec": {
   "display_name": "Python 3 (ipykernel)",
   "language": "python",
   "name": "python3"
  },
  "language_info": {
   "codemirror_mode": {
    "name": "ipython",
    "version": 3
   },
   "file_extension": ".py",
   "mimetype": "text/x-python",
   "name": "python",
   "nbconvert_exporter": "python",
   "pygments_lexer": "ipython3",
   "version": "3.11.7"
  }
 },
 "nbformat": 4,
 "nbformat_minor": 5
}
